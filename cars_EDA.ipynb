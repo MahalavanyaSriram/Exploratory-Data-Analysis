{
 "cells": [
  {
   "cell_type": "markdown",
   "metadata": {},
   "source": [
    "## Exploratory Data Analysis\n",
    "Exploratory Data Analysis refers to the critical process of performing initial investigations on data so as to discover patterns,to spot anomalies,to test hypothesis and to check assumptions with the help of summary statistics and graphical representations. It is a good practice to understand the data first and try to gather as many insights from it. EDA is all about making sense of data in hand,before getting them dirty with it. An EDA is a thorough examination meant to uncover the underlying structure of a data set and is important for a company because it exposes trends, patterns, and relationships that are not readily apparent."
   ]
  },
  {
   "cell_type": "code",
   "execution_count": 1,
   "metadata": {},
   "outputs": [],
   "source": [
    "#Load the dataset\n",
    "import pandas as pd\n",
    "import numpy as np\n",
    "#reading of the datasheet\n",
    "car_data = pd.read_csv(\"datasets/cardata.txt\")"
   ]
  },
  {
   "cell_type": "markdown",
   "metadata": {},
   "source": [
    "## Data Description\n",
    "This dataset provides fuel economy data from 1999 and 2008 for 38 popular models of cars. It consist of 243rows and 11 columns\n",
    "\n",
    "- manufacturer - Object - Gives the manufacturer of the car - 15 Manufactures\n",
    "- model - Object - Tell us about the model - 38 models\n",
    "- displ - float - engine displacement in liters 1.6 - 7.0, median: 3.3\n",
    "- year - int - year of manufacturing 1999, 2008\n",
    "- cyl - int - number of cylinders 4, 5, 6, 8\n",
    "- trans - Object - type of transmission automatic, manual (many sub types)\n",
    "- drv - Object - gives us the drive type f, r, 4, f=front wheel, r=rear wheel, 4=4 wheel\n",
    "- cty - int - city mileage miles per gallon\n",
    "- hwy - int - highway mileage miles per gallon\n",
    "- fl - Object - Fuel type of the car 5 types (e = ethanol, d = diesel, r = regular,p = premium, c = CNG):\n",
    "- class - Object - vehicle class 7 types (compact, SUV, minivan etc.)"
   ]
  },
  {
   "cell_type": "code",
   "execution_count": 2,
   "metadata": {},
   "outputs": [
    {
     "name": "stdout",
     "output_type": "stream",
     "text": [
      "  manufacturer       model  displ  year  cyl       trans drv  cty  hwy fl  \\\n",
      "0         audi          a4    1.8  1999    4    auto(l5)   f   18   29  p   \n",
      "1         audi          a4    1.8  1999    4  manual(m5)   f   21   29  p   \n",
      "2         audi          a4    2.0  2008    4  manual(m6)   f   20   31  p   \n",
      "3         audi          a4    2.0  2008    4    auto(av)   f   21   30  p   \n",
      "4         audi          a4    2.8  1999    6    auto(l5)   f   16   26  p   \n",
      "5         audi          a4    2.8  1999    6  manual(m5)   f   18   26  p   \n",
      "6         audi          a4    3.1  2008    6    auto(av)   f   18   27  p   \n",
      "7         audi  a4 quattro    1.8  1999    4  manual(m5)   4   18   26  p   \n",
      "8         audi  a4 quattro    1.8  1999    4    auto(l5)   4   16   25  p   \n",
      "9         audi  a4 quattro    2.0  2008    4  manual(m6)   4   20   28  p   \n",
      "\n",
      "     class  \n",
      "0  compact  \n",
      "1  compact  \n",
      "2  compact  \n",
      "3  compact  \n",
      "4  compact  \n",
      "5  compact  \n",
      "6  compact  \n",
      "7  compact  \n",
      "8  compact  \n",
      "9  compact  \n",
      "    manufacturer       model  displ  year  cyl       trans drv  cty  hwy fl  \\\n",
      "224   volkswagen  new beetle    2.0  1999    4    auto(l4)   f   19   26  r   \n",
      "225   volkswagen  new beetle    2.5  2008    5  manual(m5)   f   20   28  r   \n",
      "226   volkswagen  new beetle    2.5  2008    5    auto(s6)   f   20   29  r   \n",
      "227   volkswagen      passat    1.8  1999    4  manual(m5)   f   21   29  p   \n",
      "228   volkswagen      passat    1.8  1999    4    auto(l5)   f   18   29  p   \n",
      "229   volkswagen      passat    2.0  2008    4    auto(s6)   f   19   28  p   \n",
      "230   volkswagen      passat    2.0  2008    4  manual(m6)   f   21   29  p   \n",
      "231   volkswagen      passat    2.8  1999    6    auto(l5)   f   16   26  p   \n",
      "232   volkswagen      passat    2.8  1999    6  manual(m5)   f   18   26  p   \n",
      "233   volkswagen      passat    3.6  2008    6    auto(s6)   f   17   26  p   \n",
      "\n",
      "          class  \n",
      "224  subcompact  \n",
      "225  subcompact  \n",
      "226  subcompact  \n",
      "227     midsize  \n",
      "228     midsize  \n",
      "229     midsize  \n",
      "230     midsize  \n",
      "231     midsize  \n",
      "232     midsize  \n",
      "233     midsize  \n",
      "<class 'pandas.core.frame.DataFrame'>\n",
      "RangeIndex: 234 entries, 0 to 233\n",
      "Data columns (total 11 columns):\n",
      " #   Column        Non-Null Count  Dtype  \n",
      "---  ------        --------------  -----  \n",
      " 0   manufacturer  234 non-null    object \n",
      " 1   model         234 non-null    object \n",
      " 2   displ         234 non-null    float64\n",
      " 3   year          234 non-null    int64  \n",
      " 4   cyl           234 non-null    int64  \n",
      " 5   trans         234 non-null    object \n",
      " 6   drv           234 non-null    object \n",
      " 7   cty           234 non-null    int64  \n",
      " 8   hwy           234 non-null    int64  \n",
      " 9   fl            234 non-null    object \n",
      " 10  class         234 non-null    object \n",
      "dtypes: float64(1), int64(4), object(6)\n",
      "memory usage: 20.2+ KB\n",
      "None\n",
      "            displ         year         cyl         cty         hwy\n",
      "count  234.000000   234.000000  234.000000  234.000000  234.000000\n",
      "mean     3.471795  2003.500000    5.888889   16.858974   23.440171\n",
      "std      1.291959     4.509646    1.611534    4.255946    5.954643\n",
      "min      1.600000  1999.000000    4.000000    9.000000   12.000000\n",
      "25%      2.400000  1999.000000    4.000000   14.000000   18.000000\n",
      "50%      3.300000  2003.500000    6.000000   17.000000   24.000000\n",
      "75%      4.600000  2008.000000    8.000000   19.000000   27.000000\n",
      "max      7.000000  2008.000000    8.000000   35.000000   44.000000\n",
      "(234, 11)\n",
      "['audi' 'chevrolet' 'dodge' 'ford' 'honda' 'hyundai' 'jeep' 'land rover'\n",
      " 'lincoln' 'mercury' 'nissan' 'pontiac' 'subaru' 'toyota' 'volkswagen']\n",
      "['a4' 'a4 quattro' 'a6 quattro' 'c1500 suburban 2wd' 'corvette'\n",
      " 'k1500 tahoe 4wd' 'malibu' 'caravan 2wd' 'dakota pickup 4wd'\n",
      " 'durango 4wd' 'ram 1500 pickup 4wd' 'expedition 2wd' 'explorer 4wd'\n",
      " 'f150 pickup 4wd' 'mustang' 'civic' 'sonata' 'tiburon'\n",
      " 'grand cherokee 4wd' 'range rover' 'navigator 2wd' 'mountaineer 4wd'\n",
      " 'altima' 'maxima' 'pathfinder 4wd' 'grand prix' 'forester awd'\n",
      " 'impreza awd' '4runner 4wd' 'camry' 'camry solara' 'corolla'\n",
      " 'land cruiser wagon 4wd' 'toyota tacoma 4wd' 'gti' 'jetta' 'new beetle'\n",
      " 'passat']\n",
      "[4 6 8 5]\n",
      "['f' '4' 'r']\n",
      "['p' 'r' 'e' 'd' 'c']\n",
      "['compact' 'midsize' 'suv' '2seater' 'minivan' 'pickup' 'subcompact']\n"
     ]
    }
   ],
   "source": [
    "#getting first 10 values of the cars data\n",
    "print(car_data.head(10))\n",
    "\n",
    "#displaying last 10 values of the cars data\n",
    "print(car_data.tail(10))\n",
    "\n",
    "#gathering information about the columns of the car data\n",
    "print(car_data.info())\n",
    "\n",
    "#info about all the numerical columns in the dataset\n",
    "print(car_data.describe())\n",
    "\n",
    "#indentifying the no of rows and columns of the dataset\n",
    "print(car_data.shape)\n",
    "\n",
    "#gathering spesific info about the values in each column of cars data using unique function\n",
    "print(car_data['manufacturer'].unique())\n",
    "print(car_data['model'].unique())\n",
    "print(car_data['cyl'].unique())\n",
    "print(car_data['drv'].unique())\n",
    "print(car_data['fl'].unique())\n",
    "print(car_data['class'].unique())"
   ]
  },
  {
   "cell_type": "markdown",
   "metadata": {},
   "source": [
    "## Statistical summary of the dataset\n",
    "It consist of 243 rows and 11 columns. There is no null data or missing values. Summary statistical analysis\n",
    "\n",
    "- the engine displacement ranges from 1.6 - 7.0 with a mean: 3.3\n",
    "- since year is a int type the summary statictics is given\n",
    "- number of cylinders ranges from a minimum value of 4 to max of 8\n",
    "- city mileage in the given dataset has a minimum value of 9 and maximum of 35 its mean is 16.8\n",
    "- highway mileage ranges from min of 12 to 44 and its mean is 23.4\n",
    "- Here the numerical variable are displ, year, cyl, cty, hwy and the categorical variables are manufacturer, model, cyl, drv, fl, class"
   ]
  },
  {
   "cell_type": "code",
   "execution_count": 3,
   "metadata": {},
   "outputs": [
    {
     "name": "stdout",
     "output_type": "stream",
     "text": [
      "<class 'pandas.core.frame.DataFrame'>\n",
      "RangeIndex: 234 entries, 0 to 233\n",
      "Data columns (total 11 columns):\n",
      " #   Column        Non-Null Count  Dtype  \n",
      "---  ------        --------------  -----  \n",
      " 0   manufacturer  234 non-null    object \n",
      " 1   model         234 non-null    object \n",
      " 2   displ         234 non-null    float64\n",
      " 3   year          234 non-null    int64  \n",
      " 4   cyl           234 non-null    int64  \n",
      " 5   trans         234 non-null    object \n",
      " 6   drv           234 non-null    object \n",
      " 7   cty           234 non-null    int64  \n",
      " 8   hwy           234 non-null    int64  \n",
      " 9   fl            234 non-null    object \n",
      " 10  class         234 non-null    object \n",
      "dtypes: float64(1), int64(4), object(6)\n",
      "memory usage: 20.2+ KB\n",
      "None\n",
      "            displ         year         cyl         cty         hwy\n",
      "count  234.000000   234.000000  234.000000  234.000000  234.000000\n",
      "mean     3.471795  2003.500000    5.888889   16.858974   23.440171\n",
      "std      1.291959     4.509646    1.611534    4.255946    5.954643\n",
      "min      1.600000  1999.000000    4.000000    9.000000   12.000000\n",
      "25%      2.400000  1999.000000    4.000000   14.000000   18.000000\n",
      "50%      3.300000  2003.500000    6.000000   17.000000   24.000000\n",
      "75%      4.600000  2008.000000    8.000000   19.000000   27.000000\n",
      "max      7.000000  2008.000000    8.000000   35.000000   44.000000\n",
      "(234, 11)\n",
      "manufacturer    0\n",
      "model           0\n",
      "displ           0\n",
      "year            0\n",
      "cyl             0\n",
      "trans           0\n",
      "drv             0\n",
      "cty             0\n",
      "hwy             0\n",
      "fl              0\n",
      "class           0\n",
      "dtype: int64\n"
     ]
    }
   ],
   "source": [
    "#gathering information about the columns of the car data\n",
    "print(car_data.info())\n",
    "\n",
    "#info about all the numerical columns in the dataset\n",
    "print(car_data.describe())\n",
    "\n",
    "#indentifying the no of rows and columns of the dataset\n",
    "print(car_data.shape)\n",
    "\n",
    "#checking for any null values in the data using isnull and sum methods\n",
    "print(car_data.isnull().sum())"
   ]
  },
  {
   "cell_type": "markdown",
   "metadata": {},
   "source": [
    "The plots are plotted below the plot shows the count of each values of the categories. In the first plot that is the fuel type the cout of r is more roughgly aroun 160. Incase of the class count plot suv has the maximum count of 60.\n"
   ]
  },
  {
   "cell_type": "code",
   "execution_count": 4,
   "metadata": {},
   "outputs": [
    {
     "name": "stdout",
     "output_type": "stream",
     "text": [
      "manufacturer\n",
      "audi          18\n",
      "chevrolet     19\n",
      "dodge         37\n",
      "ford          25\n",
      "honda          9\n",
      "hyundai       14\n",
      "jeep           8\n",
      "land rover     4\n",
      "lincoln        3\n",
      "mercury        4\n",
      "nissan        13\n",
      "pontiac        5\n",
      "subaru        14\n",
      "toyota        34\n",
      "volkswagen    27\n",
      "dtype: int64\n"
     ]
    },
    {
     "data": {
      "image/png": "[encoded data removed]",
      "text/plain": [
       "<Figure size 432x288 with 1 Axes>"
      ]
     },
     "metadata": {
      "needs_background": "light"
     },
     "output_type": "display_data"
    },
    {
     "data": {
      "image/png": "[encoded data removed]",
      "text/plain": [
       "<Figure size 432x288 with 1 Axes>"
      ]
     },
     "metadata": {
      "needs_background": "light"
     },
     "output_type": "display_data"
    }
   ],
   "source": [
    "#count of cars respect to the manufactures\n",
    "print(car_data.groupby('manufacturer').size())\n",
    "\n",
    "#ploting the count plot\n",
    "import seaborn as sns\n",
    "import matplotlib.pyplot as plt \n",
    "\n",
    "#plotting fuel categorical variables in orange and red color\n",
    "sns.countplot(x='fl',data=car_data, palette=\"OrRd\")\n",
    "plt.show()\n",
    "plt.clf()\n",
    "#plotting class categorical variables in orange and red color\n",
    "sns.countplot(x='class',data=car_data, palette=\"BuGn\")\n",
    "plt.show()\n"
   ]
  },
  {
   "cell_type": "code",
   "execution_count": 5,
   "metadata": {},
   "outputs": [],
   "source": [
    "# Load the required libraries for visualizing data graphically. These are for your reference you my add/delete any. Make sure which libraries to use to perform tasks.\n",
    "\n",
    "from pandas.plotting import scatter_matrix\n",
    "import matplotlib.pyplot as plt\n",
    "import numpy as np\n",
    "from sklearn import datasets, model_selection\n",
    "import warnings\n",
    "warnings.filterwarnings('ignore')\n",
    "from sklearn import model_selection"
   ]
  },
  {
   "cell_type": "markdown",
   "metadata": {},
   "source": [
    "<font color = 'green'> (E) </font> *Plot a histogram for the car dataset and comment on your observation for every variable plot.*"
   ]
  },
  {
   "cell_type": "code",
   "execution_count": 6,
   "metadata": {},
   "outputs": [
    {
     "data": {
      "image/png": "[encoded data removed]",
      "text/plain": [
       "<Figure size 432x288 with 6 Axes>"
      ]
     },
     "metadata": {
      "needs_background": "light"
     },
     "output_type": "display_data"
    }
   ],
   "source": [
    "#Plot a histogram of the cars dataset\n",
    "car_data.hist()\n",
    "\n",
    "#Show the histogram using plt.show()\n",
    "plt.show()\n",
    "\n",
    "#The below graphs are a univariate (one variable) form of visualizing the data. \n",
    "#The graphs also shows how the data is distributed for every single attribute of the dataset.\n",
    "#the histogram for all numerical columns are displayed below\n",
    "#incase of city the data distribution is mostly high between 10 to 20. There is a vary small distribution between 20 and 30\n",
    "#incase of displ the data is distributed from 2 to 6\n",
    "#in year we can clearly see that there is only two distributions \n",
    "#cycles there are only 4 values across 4 to 8\n",
    "#incase of hwy the distribution of data is mostly less than 30 only a small amount of data is above 30"
   ]
  },
  {
   "cell_type": "markdown",
   "metadata": {},
   "source": [
    "<font color = 'green'> (F) </font> *Plot a distplot for the year attribute in the car dataset and comment on your observation.*"
   ]
  },
  {
   "cell_type": "code",
   "execution_count": 7,
   "metadata": {},
   "outputs": [
    {
     "data": {
      "text/plain": [
       "<matplotlib.axes._subplots.AxesSubplot at 0x7fb49037cfd0>"
      ]
     },
     "execution_count": 7,
     "metadata": {},
     "output_type": "execute_result"
    },
    {
     "data": {
      "image/png": "[encoded data removed]",
      "text/plain": [
       "<Figure size 432x288 with 1 Axes>"
      ]
     },
     "metadata": {
      "needs_background": "light"
     },
     "output_type": "display_data"
    }
   ],
   "source": [
    "sns.distplot(a=car_data[\"year\"],rug=True)\n",
    "\n",
    "#The curve shows the density plot which is essentially a smooth version of the histogram. \n",
    "#The y-axis is in terms of density, and the histogram is normalized by default so that it has the \n",
    "#same y-scale as the density plot.\n",
    "\n",
    "#it clearly shows that the data has just two variations"
   ]
  },
  {
   "cell_type": "markdown",
   "metadata": {},
   "source": [
    "<font color = 'green'> (G) </font> *Plot a Scatter plot for Engine Displacement in Liters vs Highway MPG and comment on your observation and attributes used in plotting.*"
   ]
  },
  {
   "cell_type": "code",
   "execution_count": 8,
   "metadata": {},
   "outputs": [
    {
     "data": {
      "image/png": "[encoded data removed]",
      "text/plain": [
       "<Figure size 432x288 with 1 Axes>"
      ]
     },
     "metadata": {
      "needs_background": "light"
     },
     "output_type": "display_data"
    }
   ],
   "source": [
    "plt.scatter(car_data['displ'], car_data['hwy'])\n",
    "plt.show()\n",
    "\n",
    "#the below plot shows that smaller engine displacement or size gives good \n",
    "#hisgway milages as the engine size gets bigger, the fuel economy gets worse"
   ]
  },
  {
   "cell_type": "markdown",
   "metadata": {},
   "source": [
    "<font color = 'green'> (H) </font> *Look for the outliers in the dataset. How do you find them? Are there any outliers?*"
   ]
  },
  {
   "cell_type": "code",
   "execution_count": 9,
   "metadata": {},
   "outputs": [
    {
     "data": {
      "image/png": "[encoded data removed]",
      "text/plain": [
       "<Figure size 432x288 with 1 Axes>"
      ]
     },
     "metadata": {
      "needs_background": "light"
     },
     "output_type": "display_data"
    },
    {
     "data": {
      "text/plain": [
       "<matplotlib.axes._subplots.AxesSubplot at 0x7fb4901e0250>"
      ]
     },
     "execution_count": 9,
     "metadata": {},
     "output_type": "execute_result"
    },
    {
     "data": {
      "image/png": "[encoded data removed]",
      "text/plain": [
       "<Figure size 432x288 with 1 Axes>"
      ]
     },
     "metadata": {
      "needs_background": "light"
     },
     "output_type": "display_data"
    }
   ],
   "source": [
    "plt.scatter(car_data['displ'], car_data['hwy'])\n",
    "plt.show()\n",
    "#outliers can be identified by scatter plot only in the below data we can see a trend as well as few outliers\n",
    "#for displacement value 5 there are values which gives a mileage above 25\n",
    "#yes there are outliers in the dataset\n",
    "sns.boxplot(x='displ', y='hwy', data=car_data)\n",
    "\n",
    "#There are also some interesting outliers here in the plot given below: \n",
    "#some cars with large engines get higher fuel economy than average"
   ]
  },
  {
   "cell_type": "markdown",
   "metadata": {},
   "source": [
    "<font color = 'green'> (I) </font> *How do you check graphically if the data is normally distributed for the model 'mustang' against city miles per gallon ? Comment on the same.*"
   ]
  },
  {
   "cell_type": "code",
   "execution_count": 10,
   "metadata": {},
   "outputs": [
    {
     "data": {
      "text/plain": [
       "Text(0.5, 1.0, 'Mustang city mile per galon Q-Q Plot')"
      ]
     },
     "execution_count": 10,
     "metadata": {},
     "output_type": "execute_result"
    },
    {
     "data": {
      "image/png": "[encoded data removed]",
      "text/plain": [
       "<Figure size 432x288 with 1 Axes>"
      ]
     },
     "metadata": {
      "needs_background": "light"
     },
     "output_type": "display_data"
    }
   ],
   "source": [
    "from scipy import stats\n",
    "import matplotlib.pyplot as plt\n",
    "\n",
    "car_mustang = car_data.query('model == \"mustang\"')\n",
    "stats.probplot(car_mustang['cty'], dist=\"norm\", plot= plt)\n",
    "plt.title(\"Mustang city mile per galon Q-Q Plot\")\n",
    "\n",
    "#the scatter her tends to be curved moving away from the line\n",
    "#hence data is not normally diatributed in the below case\n",
    "#for a normally distributed data the scattered dots in a probe plot lies closer to the line shown below"
   ]
  },
  {
   "cell_type": "markdown",
   "metadata": {},
   "source": [
    "<font color = 'green'> (J) </font> *Plot the number of cars by make on a horizontal bar graph.Write your observations on it.*"
   ]
  },
  {
   "cell_type": "code",
   "execution_count": 11,
   "metadata": {},
   "outputs": [
    {
     "data": {
      "text/plain": [
       "<matplotlib.axes._subplots.AxesSubplot at 0x7fb490242f10>"
      ]
     },
     "execution_count": 11,
     "metadata": {},
     "output_type": "execute_result"
    },
    {
     "data": {
      "image/png": "[encoded data removed]",
      "text/plain": [
       "<Figure size 432x288 with 1 Axes>"
      ]
     },
     "metadata": {
      "needs_background": "light"
     },
     "output_type": "display_data"
    }
   ],
   "source": [
    "count_of_cars = car_data['manufacturer'].value_counts()\n",
    "# print(count_of_cars)\n",
    "\n",
    "count_of_cars.plot.barh(stacked=False)\n",
    "\n",
    "#the bar plot below shows the count of cars by each manufacturer. \n",
    "#Dodge manufactures highest number of cars above 35\n",
    "#lincoln manufactures least number os cars below 5"
   ]
  },
  {
   "cell_type": "markdown",
   "metadata": {},
   "source": [
    "<font color = 'green'> (K) </font> *Calculate the standard deviation and the variance for the attribute \"engine displacement in litres(displ)\"\n",
    ".*"
   ]
  },
  {
   "cell_type": "code",
   "execution_count": 12,
   "metadata": {},
   "outputs": [
    {
     "name": "stdout",
     "output_type": "stream",
     "text": [
      "1.6620249835634442\n",
      "1.2891954791898101\n",
      "1.2891954791898101\n"
     ]
    }
   ],
   "source": [
    "#The standard deviation and the variance\n",
    "# variance tells the spread of data\n",
    "\n",
    "variance = np.var(car_data.displ)\n",
    "print(variance)\n",
    "\n",
    "# Print the square root of the variance\n",
    "print(np.sqrt(variance))\n",
    "\n",
    "# Print the standard deviation\n",
    "std = np.std(car_data.displ)\n",
    "print(std)"
   ]
  },
  {
   "cell_type": "markdown",
   "metadata": {},
   "source": [
    "<font color = 'green'> (L) </font> *Calculate the pearson correlation coefficient for the given dataset and generate heatmap for the same.*"
   ]
  },
  {
   "cell_type": "code",
   "execution_count": 13,
   "metadata": {},
   "outputs": [
    {
     "data": {
      "text/html": [
       "<div>\n",
       "<style scoped>\n",
       "    .dataframe tbody tr th:only-of-type {\n",
       "        vertical-align: middle;\n",
       "    }\n",
       "\n",
       "    .dataframe tbody tr th {\n",
       "        vertical-align: top;\n",
       "    }\n",
       "\n",
       "    .dataframe thead th {\n",
       "        text-align: right;\n",
       "    }\n",
       "</style>\n",
       "<table border=\"1\" class=\"dataframe\">\n",
       "  <thead>\n",
       "    <tr style=\"text-align: right;\">\n",
       "      <th></th>\n",
       "      <th>displ</th>\n",
       "      <th>year</th>\n",
       "      <th>cyl</th>\n",
       "      <th>cty</th>\n",
       "      <th>hwy</th>\n",
       "    </tr>\n",
       "  </thead>\n",
       "  <tbody>\n",
       "    <tr>\n",
       "      <th>displ</th>\n",
       "      <td>1.000000</td>\n",
       "      <td>0.147843</td>\n",
       "      <td>0.930227</td>\n",
       "      <td>-0.798524</td>\n",
       "      <td>-0.766020</td>\n",
       "    </tr>\n",
       "    <tr>\n",
       "      <th>year</th>\n",
       "      <td>0.147843</td>\n",
       "      <td>1.000000</td>\n",
       "      <td>0.122245</td>\n",
       "      <td>-0.037232</td>\n",
       "      <td>0.002158</td>\n",
       "    </tr>\n",
       "    <tr>\n",
       "      <th>cyl</th>\n",
       "      <td>0.930227</td>\n",
       "      <td>0.122245</td>\n",
       "      <td>1.000000</td>\n",
       "      <td>-0.805771</td>\n",
       "      <td>-0.761912</td>\n",
       "    </tr>\n",
       "    <tr>\n",
       "      <th>cty</th>\n",
       "      <td>-0.798524</td>\n",
       "      <td>-0.037232</td>\n",
       "      <td>-0.805771</td>\n",
       "      <td>1.000000</td>\n",
       "      <td>0.955916</td>\n",
       "    </tr>\n",
       "    <tr>\n",
       "      <th>hwy</th>\n",
       "      <td>-0.766020</td>\n",
       "      <td>0.002158</td>\n",
       "      <td>-0.761912</td>\n",
       "      <td>0.955916</td>\n",
       "      <td>1.000000</td>\n",
       "    </tr>\n",
       "  </tbody>\n",
       "</table>\n",
       "</div>"
      ],
      "text/plain": [
       "          displ      year       cyl       cty       hwy\n",
       "displ  1.000000  0.147843  0.930227 -0.798524 -0.766020\n",
       "year   0.147843  1.000000  0.122245 -0.037232  0.002158\n",
       "cyl    0.930227  0.122245  1.000000 -0.805771 -0.761912\n",
       "cty   -0.798524 -0.037232 -0.805771  1.000000  0.955916\n",
       "hwy   -0.766020  0.002158 -0.761912  0.955916  1.000000"
      ]
     },
     "execution_count": 13,
     "metadata": {},
     "output_type": "execute_result"
    }
   ],
   "source": [
    "#Pearson correlation coefficient\n",
    "\n",
    "#The Pearson correlation coefficient, also called the Pearson r, is often easier to interpret than the covariance. \n",
    "car_data.corr()"
   ]
  },
  {
   "cell_type": "code",
   "execution_count": 14,
   "metadata": {},
   "outputs": [
    {
     "data": {
      "image/png": "[encoded data removed]",
      "text/plain": [
       "<Figure size 504x288 with 2 Axes>"
      ]
     },
     "metadata": {
      "needs_background": "light"
     },
     "output_type": "display_data"
    }
   ],
   "source": [
    "#Generate a heatmap for the correlation matrix\n",
    "#A Heat Map is a graphical representation of the correlation between all the numerical variables in a dataset. The input provided is a correlation matrix generated using pandas.\n",
    "\n",
    "plt.figure(figsize=(7,4))\n",
    "sns.heatmap(car_data.corr(),annot=True,cmap='cubehelix_r')#draws heatmap with input as the correlation matrix calculated by (iris_data.corr())\n",
    "plt.show()\n",
    "\n",
    "#Observation :city milage and no of cylinders are not correlated,\n",
    "#similarly displacement and city mileage are not corellated too\n",
    "#same are bove is applicable for hwy mileage\n",
    "#city and hwy is correlated , displacement and no of cylinder is also highly correlated"
   ]
  },
  {
   "cell_type": "code",
   "execution_count": 15,
   "metadata": {},
   "outputs": [
    {
     "data": {
      "text/html": [
       "<div>\n",
       "<style scoped>\n",
       "    .dataframe tbody tr th:only-of-type {\n",
       "        vertical-align: middle;\n",
       "    }\n",
       "\n",
       "    .dataframe tbody tr th {\n",
       "        vertical-align: top;\n",
       "    }\n",
       "\n",
       "    .dataframe thead th {\n",
       "        text-align: right;\n",
       "    }\n",
       "</style>\n",
       "<table border=\"1\" class=\"dataframe\">\n",
       "  <thead>\n",
       "    <tr style=\"text-align: right;\">\n",
       "      <th>attributes</th>\n",
       "      <th>city</th>\n",
       "      <th>rank</th>\n",
       "      <th>score1</th>\n",
       "      <th>score2</th>\n",
       "    </tr>\n",
       "    <tr>\n",
       "      <th>letter</th>\n",
       "      <th></th>\n",
       "      <th></th>\n",
       "      <th></th>\n",
       "      <th></th>\n",
       "    </tr>\n",
       "  </thead>\n",
       "  <tbody>\n",
       "    <tr>\n",
       "      <th>A</th>\n",
       "      <td>Tripoli</td>\n",
       "      <td>1st</td>\n",
       "      <td>44</td>\n",
       "      <td>67</td>\n",
       "    </tr>\n",
       "    <tr>\n",
       "      <th>B</th>\n",
       "      <td>Sydney</td>\n",
       "      <td>2nd</td>\n",
       "      <td>48</td>\n",
       "      <td>63</td>\n",
       "    </tr>\n",
       "    <tr>\n",
       "      <th>C</th>\n",
       "      <td>Tripoli</td>\n",
       "      <td>1st</td>\n",
       "      <td>39</td>\n",
       "      <td>55</td>\n",
       "    </tr>\n",
       "    <tr>\n",
       "      <th>D</th>\n",
       "      <td>Rome</td>\n",
       "      <td>2nd</td>\n",
       "      <td>41</td>\n",
       "      <td>70</td>\n",
       "    </tr>\n",
       "    <tr>\n",
       "      <th>E</th>\n",
       "      <td>Rome</td>\n",
       "      <td>1st</td>\n",
       "      <td>38</td>\n",
       "      <td>64</td>\n",
       "    </tr>\n",
       "    <tr>\n",
       "      <th>F</th>\n",
       "      <td>Tripoli</td>\n",
       "      <td>2nd</td>\n",
       "      <td>44</td>\n",
       "      <td>75</td>\n",
       "    </tr>\n",
       "    <tr>\n",
       "      <th>G</th>\n",
       "      <td>Rome</td>\n",
       "      <td>1st</td>\n",
       "      <td>34</td>\n",
       "      <td>45</td>\n",
       "    </tr>\n",
       "    <tr>\n",
       "      <th>H</th>\n",
       "      <td>Sydney</td>\n",
       "      <td>2nd</td>\n",
       "      <td>54</td>\n",
       "      <td>66</td>\n",
       "    </tr>\n",
       "    <tr>\n",
       "      <th>I</th>\n",
       "      <td>Sydney</td>\n",
       "      <td>1st</td>\n",
       "      <td>61</td>\n",
       "      <td>72</td>\n",
       "    </tr>\n",
       "  </tbody>\n",
       "</table>\n",
       "</div>"
      ],
      "text/plain": [
       "attributes     city rank  score1  score2\n",
       "letter                                  \n",
       "A           Tripoli  1st      44      67\n",
       "B            Sydney  2nd      48      63\n",
       "C           Tripoli  1st      39      55\n",
       "D              Rome  2nd      41      70\n",
       "E              Rome  1st      38      64\n",
       "F           Tripoli  2nd      44      75\n",
       "G              Rome  1st      34      45\n",
       "H            Sydney  2nd      54      66\n",
       "I            Sydney  1st      61      72"
      ]
     },
     "execution_count": 15,
     "metadata": {},
     "output_type": "execute_result"
    }
   ],
   "source": [
    "#import pandas\n",
    "import pandas as pd\n",
    "#first create raw_data to use for our data\n",
    "raw_data = {\n",
    "         \"city\": [\"Tripoli\", \"Sydney\", \"Tripoli\", \"Rome\", \"Rome\", \"Tripoli\",\"Rome\", \"Sydney\", \"Sydney\"],\n",
    "         \"rank\": [\"1st\", \"2nd\", \"1st\", \"2nd\", \"1st\", \"2nd\",\"1st\", \"2nd\", \"1st\"], \n",
    "         \"score1\": [44, 48, 39, 41, 38, 44, 34, 54, 61],\n",
    "         \"score2\": [67, 63, 55, 70, 64, 75, 45, 66, 72]\n",
    "        }\n",
    "#create df as a DataFrame\n",
    "df = pd.DataFrame(raw_data, \n",
    "                  index = pd.Index(['A','B','C','D','E','F','G','H','I'], name='letter'),\n",
    "                  columns = pd.Index(['city', 'rank','score1','score2'],name='attributes'))\n",
    "#df\n",
    "df\n"
   ]
  },
  {
   "cell_type": "code",
   "execution_count": 16,
   "metadata": {},
   "outputs": [],
   "source": [
    "#Define bins as 0 to 25, 25 - 50, 50 - 75, 75 - 100\n",
    "bins = [0, 25, 50, 75, 100]\n"
   ]
  },
  {
   "cell_type": "code",
   "execution_count": 17,
   "metadata": {},
   "outputs": [],
   "source": [
    "#names for the four groups\n",
    "group_names = ['low', 'average', 'good', 'brilliant']"
   ]
  },
  {
   "cell_type": "code",
   "execution_count": 18,
   "metadata": {},
   "outputs": [],
   "source": [
    "#now create grade with score2 arranged according to gins\n",
    "df['grade'] = pd.cut(df['score2'], bins, labels=group_names)"
   ]
  },
  {
   "cell_type": "code",
   "execution_count": 19,
   "metadata": {},
   "outputs": [
    {
     "data": {
      "text/html": [
       "<div>\n",
       "<style scoped>\n",
       "    .dataframe tbody tr th:only-of-type {\n",
       "        vertical-align: middle;\n",
       "    }\n",
       "\n",
       "    .dataframe tbody tr th {\n",
       "        vertical-align: top;\n",
       "    }\n",
       "\n",
       "    .dataframe thead th {\n",
       "        text-align: right;\n",
       "    }\n",
       "</style>\n",
       "<table border=\"1\" class=\"dataframe\">\n",
       "  <thead>\n",
       "    <tr style=\"text-align: right;\">\n",
       "      <th>attributes</th>\n",
       "      <th>city</th>\n",
       "      <th>rank</th>\n",
       "      <th>score1</th>\n",
       "      <th>score2</th>\n",
       "      <th>grade</th>\n",
       "    </tr>\n",
       "    <tr>\n",
       "      <th>letter</th>\n",
       "      <th></th>\n",
       "      <th></th>\n",
       "      <th></th>\n",
       "      <th></th>\n",
       "      <th></th>\n",
       "    </tr>\n",
       "  </thead>\n",
       "  <tbody>\n",
       "    <tr>\n",
       "      <th>A</th>\n",
       "      <td>Tripoli</td>\n",
       "      <td>1st</td>\n",
       "      <td>44</td>\n",
       "      <td>67</td>\n",
       "      <td>good</td>\n",
       "    </tr>\n",
       "    <tr>\n",
       "      <th>B</th>\n",
       "      <td>Sydney</td>\n",
       "      <td>2nd</td>\n",
       "      <td>48</td>\n",
       "      <td>63</td>\n",
       "      <td>good</td>\n",
       "    </tr>\n",
       "    <tr>\n",
       "      <th>C</th>\n",
       "      <td>Tripoli</td>\n",
       "      <td>1st</td>\n",
       "      <td>39</td>\n",
       "      <td>55</td>\n",
       "      <td>good</td>\n",
       "    </tr>\n",
       "    <tr>\n",
       "      <th>D</th>\n",
       "      <td>Rome</td>\n",
       "      <td>2nd</td>\n",
       "      <td>41</td>\n",
       "      <td>70</td>\n",
       "      <td>good</td>\n",
       "    </tr>\n",
       "    <tr>\n",
       "      <th>E</th>\n",
       "      <td>Rome</td>\n",
       "      <td>1st</td>\n",
       "      <td>38</td>\n",
       "      <td>64</td>\n",
       "      <td>good</td>\n",
       "    </tr>\n",
       "    <tr>\n",
       "      <th>F</th>\n",
       "      <td>Tripoli</td>\n",
       "      <td>2nd</td>\n",
       "      <td>44</td>\n",
       "      <td>75</td>\n",
       "      <td>good</td>\n",
       "    </tr>\n",
       "    <tr>\n",
       "      <th>G</th>\n",
       "      <td>Rome</td>\n",
       "      <td>1st</td>\n",
       "      <td>34</td>\n",
       "      <td>45</td>\n",
       "      <td>average</td>\n",
       "    </tr>\n",
       "    <tr>\n",
       "      <th>H</th>\n",
       "      <td>Sydney</td>\n",
       "      <td>2nd</td>\n",
       "      <td>54</td>\n",
       "      <td>66</td>\n",
       "      <td>good</td>\n",
       "    </tr>\n",
       "    <tr>\n",
       "      <th>I</th>\n",
       "      <td>Sydney</td>\n",
       "      <td>1st</td>\n",
       "      <td>61</td>\n",
       "      <td>72</td>\n",
       "      <td>good</td>\n",
       "    </tr>\n",
       "  </tbody>\n",
       "</table>\n",
       "</div>"
      ],
      "text/plain": [
       "attributes     city rank  score1  score2    grade\n",
       "letter                                           \n",
       "A           Tripoli  1st      44      67     good\n",
       "B            Sydney  2nd      48      63     good\n",
       "C           Tripoli  1st      39      55     good\n",
       "D              Rome  2nd      41      70     good\n",
       "E              Rome  1st      38      64     good\n",
       "F           Tripoli  2nd      44      75     good\n",
       "G              Rome  1st      34      45  average\n",
       "H            Sydney  2nd      54      66     good\n",
       "I            Sydney  1st      61      72     good"
      ]
     },
     "execution_count": 19,
     "metadata": {},
     "output_type": "execute_result"
    }
   ],
   "source": [
    "df\n",
    "#now that is pretty cool! Our numeric data has been binned into categories!"
   ]
  }
 ],
 "metadata": {
  "kernelspec": {
   "display_name": "Python 3",
   "language": "python",
   "name": "python3"
  },
  "language_info": {
   "codemirror_mode": {
    "name": "ipython",
    "version": 3
   },
   "file_extension": ".py",
   "mimetype": "text/x-python",
   "name": "python",
   "nbconvert_exporter": "python",
   "pygments_lexer": "ipython3",
   "version": "3.7.6"
  }
 },
 "nbformat": 4,
 "nbformat_minor": 2
}
